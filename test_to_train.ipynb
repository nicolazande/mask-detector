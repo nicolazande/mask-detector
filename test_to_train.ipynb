{
 "cells": [
  {
   "cell_type": "code",
   "execution_count": 1,
   "metadata": {},
   "outputs": [],
   "source": [
    "import os, shutil\n",
    "cwd = os.getcwd()"
   ]
  },
  {
   "cell_type": "code",
   "execution_count": 2,
   "metadata": {},
   "outputs": [],
   "source": [
    "#--------- aggiungo test a training vecchio per migliorare un po  --------------------------------\n",
    "imm_source = os.path.join(cwd, 'MaskDataset\\\\test')\n",
    "# su imm_dest metti: 'MaskDataset\\\\training'\n",
    "imm_dest = os.path.join(cwd,'MaskDataset\\\\copies')\n",
    "if not os.path.exists(imm_dest):\n",
    "    os.makedirs(imm_dest)\n",
    "    \n",
    "image_filenames = next(os.walk(imm_source))[2]\n",
    "# indice massimo del training vecchio\n",
    "i = max([int(f[:f.index('.')]) for f in os.listdir(os.path.join(cwd,'MaskDataset\\\\training'))])\n",
    "\n",
    "for image_name in image_filenames: \n",
    "    i = i+1\n",
    "    shutil.copy(os.path.join(imm_source,image_name), os.path.join(imm_dest,'%s.jpeg' % i),  follow_symlinks=True)\n",
    "\n",
    "data_dir=os.path.join(cwd,'MaskDataset\\\\dataset')\n",
    "#----------- se non ce ordino tutto --------------------------\n",
    "if not os.path.exists(data_dir):\n",
    "    dir0 = os.path.join(data_dir, '0')\n",
    "    dir1 = os.path.join(data_dir, '1')\n",
    "    dir2 = os.path.join(data_dir, '2')\n",
    "    os.mkdir(data_dir)\n",
    "    os.mkdir(dir0)\n",
    "    os.mkdir(dir1)\n",
    "    os.mkdir(dir2)\n",
    "    \n",
    "#adesso scegli a mano le immagini da copies e metti in dataset\\\\sottocartelle cosi:\n",
    "    # 0 se no mask\n",
    "    # 1 tutti mask\n",
    "    # 2 un po mask\n",
    "#poi passa tutto"
   ]
  },
  {
   "cell_type": "code",
   "execution_count": null,
   "metadata": {},
   "outputs": [],
   "source": []
  }
 ],
 "metadata": {
  "kernelspec": {
   "display_name": "Python 3",
   "language": "python",
   "name": "python3"
  },
  "language_info": {
   "codemirror_mode": {
    "name": "ipython",
    "version": 3
   },
   "file_extension": ".py",
   "mimetype": "text/x-python",
   "name": "python",
   "nbconvert_exporter": "python",
   "pygments_lexer": "ipython3",
   "version": "3.7.9"
  }
 },
 "nbformat": 4,
 "nbformat_minor": 4
}
